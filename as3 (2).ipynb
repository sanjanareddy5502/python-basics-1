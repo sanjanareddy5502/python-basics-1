{
 "cells": [
  {
   "cell_type": "markdown",
   "id": "e7bc14ca-53e6-4cff-bcba-86856ec4c536",
   "metadata": {},
   "source": [
    "ASSIGNMENT 03\n",
    "\n",
    "PYTHON PROGRAMMING "
   ]
  },
  {
   "cell_type": "raw",
   "id": "32c5039d-c59e-4ad3-ae6b-6556b0ea28a8",
   "metadata": {},
   "source": [
    "1. Why are functions advantageous to have in your programs?\n",
    "A:Functions reduce the need for duplicate code.This makes programs shorter,easier to update.The main advantage of functions is code Reusability\n",
    "\n",
    "2. When does the code in a function run: when it&#39;s specified or when it&#39;s called?\n",
    "A:The code in a function executes when the function is called not when the function is specified\n",
    "\n",
    "3. What statement creates a function?\n",
    "A:The \"def\" statement defines a function \n",
    "   Syntax of Function:\n",
    "   def\n",
    "   function_name(parameters):\n",
    "   \"\"\"doc string\"\"\"-----\n",
    "   function body----- -----\n",
    "   function body-----\n",
    "   return value\n",
    "   \n",
    "4. What is the difference between a function and a function call?\n",
    "A: A function is procedure to achieve a particular result.While function call is using this function to achieve that task.Using function to do a \n",
    "   particular task any point in program is called as function call\n",
    "   \n",
    "5. How many global scopes are there in a Python program? How many local scopes?\n",
    "A: There is one global scope,and a local scope is created whenever a function is called.\n",
    "\n",
    "6. What happens to variables in a local scope when the function call returns?\n",
    "A:When a function returns,the local scope is destroyed,and all the variables in it are forgotten\n",
    "\n",
    "7. What is the concept of a return value? Is it possible to have a return value in an expression?\n",
    "A:A return value is the value that a function call evaluates to.like any value ,a return value can be used as part of an expression\n",
    "\n",
    "8. If a function does not have a return statement, what is the return value of a call to that function?\n",
    "A: If there is no return statement for a function,its return value is \"None\".\n",
    "\n",
    "9. How do you make a function variable refer to the global variable?\n",
    "A: A global statement will force a variable in a function to refer to the global variable.If you want to refer to a global variable in a function,you    can the \"global\" keyword to declare which variables are global.\n",
    "\n",
    "10. What is the data type of None?\n",
    "A: The datatype of None is NoneType\n",
    "\n",
    "11. What does the sentence import areallyourpetsnamederic do?\n",
    "A:The import statement imports a module named areallyourpetnamederic.\n",
    "\n",
    "12. If you had a bacon() feature in a spam module, what would you call it after importing spam?\n",
    "A: This function can be called with spam.bacon()\n",
    "\n",
    "13. What can you do to save a programme from crashing if it encounters an error?\n",
    "A:Place the line of code that might cause an error in a try clause and use expect bloack to handle the error\n",
    "\n",
    "14. What is the purpose of the try clause? What is the purpose of the except clause?\n",
    "A:The code that could potentially cause an error goes in the expect clause."
   ]
  }
 ],
 "metadata": {
  "kernelspec": {
   "display_name": "Python 3 (ipykernel)",
   "language": "python",
   "name": "python3"
  },
  "language_info": {
   "codemirror_mode": {
    "name": "ipython",
    "version": 3
   },
   "file_extension": ".py",
   "mimetype": "text/x-python",
   "name": "python",
   "nbconvert_exporter": "python",
   "pygments_lexer": "ipython3",
   "version": "3.10.6"
  }
 },
 "nbformat": 4,
 "nbformat_minor": 5
}
