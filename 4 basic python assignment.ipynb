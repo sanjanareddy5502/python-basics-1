{
 "cells": [
  {
   "cell_type": "markdown",
   "id": "adc4468e-a3f8-44d9-8798-75de4a68c315",
   "metadata": {},
   "source": [
    "PYTHON BASICS \n",
    "\n",
    "ASSIGNMENT-4\n",
    "\n",
    "1. What exactly is []?\n",
    "A:1Ans: The empty list represented by [] is a list that contains no items. This is similar to '' which represents an empty string\n",
    "\n",
    "2.In a list of values stored in a variable called spam, how would you assign the value 'hello' as the third value? (Assume [2, 4, 6, 8, 10] are in spam.)\n",
    "Ans: spam[2]='hello' (Note: Lists follows zero based indexing)\n"
   ]
  },
  {
   "cell_type": "code",
   "execution_count": 1,
   "id": "4e150659-814f-4ddc-a8dd-339f2dbfb59c",
   "metadata": {},
   "outputs": [
    {
     "name": "stdout",
     "output_type": "stream",
     "text": [
      "[2, 4, 6, 8, 10]\n",
      "[2, 4, 'hello', 8, 10]\n"
     ]
    }
   ],
   "source": [
    "# Example\n",
    "spam=[2,4,6,8,10]\n",
    "print(spam)\n",
    "spam[2]='hello' #List uses zero based indexing\n",
    "print(spam)"
   ]
  },
  {
   "cell_type": "markdown",
   "id": "3219533d-72b6-4895-befd-8a8a1cdce638",
   "metadata": {},
   "source": [
    "Let's pretend the spam includes the list ['a','b','c',d'] for the next three queries.\n",
    "3. What is the value of spam[int(int('3'*2)//11)] ?\n",
    "Ans: 'd' (Note that '3' * 2 is the string '33', which is passed to int() before being divided by 11. This eventually evaluates to 3, spam[3] is equal to d.)"
   ]
  },
  {
   "cell_type": "code",
   "execution_count": 2,
   "id": "187205b2-a5fb-4d07-abbe-7d48ff3eb8f2",
   "metadata": {},
   "outputs": [
    {
     "name": "stdout",
     "output_type": "stream",
     "text": [
      "spam[int(int('3'*2)//11)] -> d\n"
     ]
    }
   ],
   "source": [
    "spam=['a','b','c','d']\n",
    "print(\"spam[int(int('3'*2)//11)] ->\",spam[int(int('3'*2)//11)])"
   ]
  },
  {
   "cell_type": "markdown",
   "id": "b749ddc1-5a4e-481a-852c-23fc661d3ee9",
   "metadata": {},
   "source": [
    "4. What is the value of spam[-1]?\n",
    "Ans: 'd' (Lists support Negative indexing, Hence spam[-1] returs 'd')"
   ]
  },
  {
   "cell_type": "code",
   "execution_count": 3,
   "id": "df97ee00-3a34-46d5-bdda-cb2c64db4bd8",
   "metadata": {},
   "outputs": [
    {
     "name": "stdout",
     "output_type": "stream",
     "text": [
      "spam[-1] ->  d\n"
     ]
    }
   ],
   "source": [
    "spam=['a','b','c','d']\n",
    "print('spam[-1] -> ',spam[-1])"
   ]
  },
  {
   "cell_type": "markdown",
   "id": "bbd11fb4-914b-43b1-ad86-5ca48a22c724",
   "metadata": {},
   "source": [
    "5. What is the value of spam[:2]?\n",
    "Ans: spam[:2] returns all elements in the list spam from 0 to 2 excluding 2"
   ]
  },
  {
   "cell_type": "code",
   "execution_count": 4,
   "id": "0ff4a439-a94e-468e-9ec9-bbac7998f677",
   "metadata": {},
   "outputs": [
    {
     "name": "stdout",
     "output_type": "stream",
     "text": [
      "['a', 'b', 'c', 'd']\n",
      "['a', 'b']\n"
     ]
    }
   ],
   "source": [
    "print(spam)\n",
    "print(spam[:2])"
   ]
  },
  {
   "cell_type": "markdown",
   "id": "79098c98-1e18-4ada-bfa3-7984f0104490",
   "metadata": {},
   "source": [
    "Let's pretend bacon has the list [3.14,'cat',11,'cat',True] for the next three question\n",
    "6. What is the value of bacon.index('cat')?\n",
    "Ans: The value of bacon.index('cat') is 1 (Note: index method returns the index of first occuerence of 'cat')"
   ]
  },
  {
   "cell_type": "code",
   "execution_count": 5,
   "id": "e45eb9a7-8749-4555-85c9-68feeae37be7",
   "metadata": {},
   "outputs": [
    {
     "name": "stdout",
     "output_type": "stream",
     "text": [
      "bacon.index('cat') -> 1\n"
     ]
    }
   ],
   "source": [
    "bacon=[3.14,'cat',11,'cat',True]\n",
    "print(\"bacon.index('cat') ->\",bacon.index('cat'))"
   ]
  },
  {
   "cell_type": "markdown",
   "id": "1bce7dd7-e0ae-492d-bd2d-6cb4238adc4c",
   "metadata": {},
   "source": [
    "7. How does bacon.append(99) change the look of the list value in bacon?\n",
    "Ans: The append method adds new elements to the end of the list"
   ]
  },
  {
   "cell_type": "code",
   "execution_count": 6,
   "id": "515c52cc-feff-476b-b119-5ec96fdfa462",
   "metadata": {},
   "outputs": [
    {
     "name": "stdout",
     "output_type": "stream",
     "text": [
      "[3.14, 'cat', 11, 'cat', True]\n",
      "[3.14, 'cat', 11, 'cat', True, 99]\n"
     ]
    }
   ],
   "source": [
    "# Example\n",
    "print(bacon)\n",
    "bacon.append(99) # appends 99 to the end of the list\n",
    "print(bacon)"
   ]
  },
  {
   "cell_type": "markdown",
   "id": "e4d1c159-37e7-4dad-97ba-2d1ecbf36907",
   "metadata": {},
   "source": [
    "8. How does bacon.remove('cat') change the look of the list in bacon?\n",
    "Ans: The remove method removes the first occurence of the element in the list"
   ]
  },
  {
   "cell_type": "code",
   "execution_count": 7,
   "id": "6b5dbeb1-3409-4ad8-ac19-8380b620a8ab",
   "metadata": {},
   "outputs": [
    {
     "name": "stdout",
     "output_type": "stream",
     "text": [
      "[3.14, 'cat', 11, 'cat', True, 99]\n",
      "[3.14, 11, 'cat', True, 99]\n"
     ]
    }
   ],
   "source": [
    "print(bacon)\n",
    "bacon.remove('cat')\n",
    "print(bacon)"
   ]
  },
  {
   "cell_type": "markdown",
   "id": "3b97f9c6-61e5-46e3-b838-931371966c82",
   "metadata": {},
   "source": [
    "9.what are the list concatenation and list replication operations?\n",
    "Ans: The operator for list concatenation is +, while the operator for replication is *. (This is the same as for strings.)"
   ]
  },
  {
   "cell_type": "code",
   "execution_count": 8,
   "id": "4f6428f3-4439-4ad3-977a-d1fdcbf893a3",
   "metadata": {},
   "outputs": [
    {
     "name": "stdout",
     "output_type": "stream",
     "text": [
      "['ML', 'DL', 'AI', 'CV', 'NLP', 'RNN', 'CNN', 'SVN']\n",
      "['RNN', 'CNN', 'SVN', 'RNN', 'CNN', 'SVN']\n"
     ]
    }
   ],
   "source": [
    "# Example\n",
    "list_1 = ['ML','DL','AI','CV','NLP']\n",
    "list_2 = ['RNN','CNN','SVN']\n",
    "print(list_1 + list_2) # List Concatenation\n",
    "print(list_2*2) # List Replication"
   ]
  },
  {
   "cell_type": "code",
   "execution_count": null,
   "id": "d19bb0be-24f1-48d2-a3d6-6a8919c89241",
   "metadata": {},
   "outputs": [],
   "source": [
    "10.what is the difference between the list method append() and insert()?\n",
    "Ans: While append() will add values only to the end of a list, insert() can add them anywhere in the list."
   ]
  },
  {
   "cell_type": "code",
   "execution_count": 9,
   "id": "b318dadd-a00f-4ec7-87f9-1f06f74323e9",
   "metadata": {},
   "outputs": [
    {
     "name": "stdout",
     "output_type": "stream",
     "text": [
      "[1, 2, 3, 4, 5, 6]\n",
      "[1, 2, 'Demo', 3, 4, 5, 6]\n"
     ]
    }
   ],
   "source": [
    "#Examples\n",
    "list = [1,2,3,4,5]\n",
    "list.append(6)\n",
    "print(list)\n",
    "list.insert(2,'Demo')\n",
    "print(list)"
   ]
  },
  {
   "cell_type": "markdown",
   "id": "308c6e2e-4056-44ba-8d5c-33b6536535c4",
   "metadata": {},
   "source": [
    "11. What are the two methods for removing items from a list?\n",
    "Ans: The del statement and the remove() method are two ways to remove values from a list\n",
    "\n",
    "12. Describe how list values and string values are identical.\n",
    "Ans: Both lists and strings can be passed to len() function, have indexes and slices, be used in for loops, be concatenated or replicated, and be used with the in and not in operators.\n",
    "\n",
    "13. What's the difference between tuples and lists?\n",
    "Ans: Lists are Mutable, Indexable and Slicable. they can have values added, removed, or changed. Tuples are Immutable but Indexable and Slicable. the tuple values cannot be changed at all. Also, tuples are represented using parentheses, (), while lists use the square brackets, [].\n",
    "\n",
    "14. How do you type a tuple value that only contains the integer 42?\n",
    "Ans:(42,) (The trailing comma is mandatory. otherwise its considered as a int by python Interpreter)"
   ]
  },
  {
   "cell_type": "code",
   "execution_count": 10,
   "id": "38b3acc5-913b-437f-a4a3-bc9ff602081f",
   "metadata": {},
   "outputs": [
    {
     "name": "stdout",
     "output_type": "stream",
     "text": [
      "<class 'int'>\n",
      "<class 'tuple'>\n"
     ]
    }
   ],
   "source": [
    "tup1=(42)\n",
    "tup2=(42,)\n",
    "print(type(tup1))\n",
    "print(type(tup2))"
   ]
  },
  {
   "cell_type": "markdown",
   "id": "1afb9366-c5a6-4740-9c6a-9e213646eca1",
   "metadata": {},
   "source": [
    "15. How do you get a list value's tuple form? How do you get a tuple value's list form?\n",
    "Ans: The tuple() and list() functions, respectively are used to convert a list to tuple and vice versa\n",
    "\n",
    "16. Variables that \"contain\" list values are not necessarily lists themselves. Instead, what do they contain?\n",
    "Ans: They contain references to list values.\n",
    "\n",
    "17. How do you distinguish between copy.copy() and copy.deepcopy()?\n",
    "Ans: The copy.copy() function will do a shallow copy of a list, while the copy.deepcopy() function will do a deep copy of a list. That is, only copy.deepcopy() will duplicate any lists inside the list."
   ]
  }
 ],
 "metadata": {
  "kernelspec": {
   "display_name": "Python 3 (ipykernel)",
   "language": "python",
   "name": "python3"
  },
  "language_info": {
   "codemirror_mode": {
    "name": "ipython",
    "version": 3
   },
   "file_extension": ".py",
   "mimetype": "text/x-python",
   "name": "python",
   "nbconvert_exporter": "python",
   "pygments_lexer": "ipython3",
   "version": "3.10.6"
  }
 },
 "nbformat": 4,
 "nbformat_minor": 5
}
