{
 "cells": [
  {
   "cell_type": "code",
   "execution_count": null,
   "id": "d815b5e1-3843-4b12-b3eb-43576621439a",
   "metadata": {},
   "outputs": [],
   "source": [
    "#1.What are the two values of the Boolean datatype? How do you write them?\n",
    "A:True and False are true values of the boolean data types. We have to use capital T and F and with the rest of the word in lowercase"
   ]
  },
  {
   "cell_type": "code",
   "execution_count": 1,
   "id": "e9545157-78b5-4e8e-8029-a68429e0caf2",
   "metadata": {},
   "outputs": [
    {
     "name": "stdout",
     "output_type": "stream",
     "text": [
      "True <class 'bool'>\n",
      "False <class 'bool'>\n"
     ]
    }
   ],
   "source": [
    "a=True\n",
    "b=False\n",
    "print(a,type(a))\n",
    "print(b,type(b))"
   ]
  },
  {
   "cell_type": "code",
   "execution_count": null,
   "id": "bc150f8f-9c45-4005-aa28-d55367046f40",
   "metadata": {},
   "outputs": [],
   "source": [
    "#2.What are the three different types of Boolean operators?\n",
    "A:Three different types of boolean operators in Python are:\n",
    "    1.AND\n",
    "    2.OR\n",
    "    3.NOT\n",
    "    "
   ]
  },
  {
   "cell_type": "code",
   "execution_count": 2,
   "id": "42dfb2ef-c0d0-45b7-a1e3-0a46ccb8dfc6",
   "metadata": {},
   "outputs": [
    {
     "name": "stdout",
     "output_type": "stream",
     "text": [
      "True\n",
      "True\n",
      "False\n"
     ]
    }
   ],
   "source": [
    "a=100\n",
    "b=200\n",
    "#example for AND boolean\n",
    "print(a>50 and b>100)\n",
    "#example for OR boolean\n",
    "print(a>200 or b>100)\n",
    "#example for NOT boolean\n",
    "print(not(a>10))\n"
   ]
  },
  {
   "cell_type": "code",
   "execution_count": null,
   "id": "255c8963-4dfa-4f01-adce-ee3712b0168a",
   "metadata": {},
   "outputs": [],
   "source": [
    "#3.Make a list of each boolean operators truth tables(i.e,every possible combination of boolean values for the operators and what it evaluates)?\n",
    "A:The Truth Tables for the boolean tables are as follows:\n",
    "    * Truth Table for AND operator\n",
    "         -True and True is True\n",
    "         -True and False is False\n",
    "         -False and False is False\n",
    "         -False and False is False\n",
    "    * Truth Tables for OR operator\n",
    "         -True and True is True\n",
    "         -True and False is True\n",
    "         -False and True is True\n",
    "         -False and False is False\n",
    "    * Truth Tables for NOT operator\n",
    "         -True is False\n",
    "         -False is True"
   ]
  },
  {
   "cell_type": "code",
   "execution_count": 3,
   "id": "3e112935-31dc-4931-8fc2-26510411a584",
   "metadata": {},
   "outputs": [
    {
     "name": "stdout",
     "output_type": "stream",
     "text": [
      "False\n",
      "False\n",
      "True\n",
      "False\n",
      "False\n",
      "True\n"
     ]
    }
   ],
   "source": [
    "#4.What are the values of the followiing expressions?\n",
    "   #(5>4) and (3==5)\n",
    "   # not(5>4)\n",
    "   #(5>4)or(3==5)\n",
    "   #not((5>4)or(3==5))\n",
    "   #(True and True) and (True==False)\n",
    "   #(not False) or (not True)\n",
    "print((5>4) and (3==5))\n",
    "print(not(5>4))\n",
    "print((5>4) or (3==5))\n",
    "print(not(5>4) or (3==5))\n",
    "print((True and True) and (True==False))\n",
    "print((not False) or (not True))"
   ]
  },
  {
   "cell_type": "code",
   "execution_count": null,
   "id": "62da1666-eeac-44cc-86f7-b349a94ce869",
   "metadata": {},
   "outputs": [],
   "source": [
    "#5.What are the six comparision operators?\n",
    "A:The six comparison operators available in Python are:\n",
    "    1.==\n",
    "    2.!=\n",
    "    3.<\n",
    "    4.>\n",
    "    5.<=\n",
    "    6.=>\n",
    "              "
   ]
  },
  {
   "cell_type": "code",
   "execution_count": null,
   "id": "1bc9343a-48aa-4c43-9652-cbc2c8e61213",
   "metadata": {},
   "outputs": [],
   "source": [
    "#6.How do you tell the difference between the equal to and assignment operators?Describe a condition and when you would use one?\n",
    "A: == is the equal to operator that compares two values and evaluates to a Boolean,while = is that assignment operator that stores a value in a \n",
    "   variable"
   ]
  },
  {
   "cell_type": "code",
   "execution_count": 4,
   "id": "8af4953e-2d05-4659-a5c0-da86eabfa519",
   "metadata": {},
   "outputs": [
    {
     "name": "stdout",
     "output_type": "stream",
     "text": [
      "True\n"
     ]
    }
   ],
   "source": [
    "a=3#Assiging oprator that stores 3 value in a variable a\n",
    "if a==3:#comparing values of a variable value and 3\n",
    "    print(a==3)"
   ]
  },
  {
   "cell_type": "code",
   "execution_count": null,
   "id": "fd81d425-111d-42fd-919c-276b859aa261",
   "metadata": {},
   "outputs": [],
   "source": [
    "#7.Identify the three blocks in this code\n",
    "  spam = 0\n",
    "  if spam == 10:\n",
    "  print('eggs')\n",
    "  if spam>5:\n",
    "  print('bacon')\n",
    "  else:\n",
    "  print('ham')\n",
    "  print('spam')\n",
    "  print('spam')\n",
    "A:In Python,code block refers to a collection of code that is in the same block or indent.This is most commonly found in classes,functions and loops \n"
   ]
  },
  {
   "cell_type": "code",
   "execution_count": 1,
   "id": "517447b1-b665-44ad-b2cf-94a3251a294b",
   "metadata": {},
   "outputs": [
    {
     "name": "stdout",
     "output_type": "stream",
     "text": [
      "ham\n",
      "spam\n",
      "spam\n"
     ]
    }
   ],
   "source": [
    "spam = 0\n",
    "if spam == 10:\n",
    "    print('eggs')# BLOCK 1\n",
    "if spam>5:\n",
    "    print('bacon')# BLOCK 2\n",
    "else:\n",
    "    print('ham')# BLOCK 3\n",
    "print('spam')\n",
    "print('spam')"
   ]
  },
  {
   "cell_type": "code",
   "execution_count": 3,
   "id": "c3627b03-0b9c-4645-940d-9480ad2da51f",
   "metadata": {},
   "outputs": [
    {
     "name": "stdout",
     "output_type": "stream",
     "text": [
      "Hello\n",
      "Howdy\n",
      "Greetings!\n"
     ]
    }
   ],
   "source": [
    "#8.Write a code that prints Hello if 1 is stored in spam,prints Howdy if 2 is stored in spam,and prints Greetings! if anyhing else is stored in spam\n",
    "#ANSWER\n",
    "def spamcode(spam):\n",
    "    if spam==1:\n",
    "        print('Hello')\n",
    "    elif spam==2:\n",
    "        print('Howdy')\n",
    "    else:\n",
    "        print('Greetings!')\n",
    "spamcode(1)\n",
    "spamcode(2)\n",
    "spamcode(3)"
   ]
  },
  {
   "cell_type": "code",
   "execution_count": null,
   "id": "1b8cd8d2-ca51-4ef7-b163-12130de332ef",
   "metadata": {},
   "outputs": [],
   "source": [
    "#9.If your programme is stuck in an endless loop,what keys you'll press?\n",
    "A: Press ctrl-c to stop a program stuck in an infinite loop"
   ]
  },
  {
   "cell_type": "code",
   "execution_count": null,
   "id": "0371b2b5-3d51-45b2-a943-765c9cc711b3",
   "metadata": {},
   "outputs": [],
   "source": [
    "#10.How can you tell the difference between break and continue?\n",
    "A: BREAK:-\n",
    "        The Break statement will move the execution outside the loop if break condition is satisfied.\n",
    "   CONTINUE:-\n",
    "         Whereas the Continue statement will move the execution to the start of the loop."
   ]
  },
  {
   "cell_type": "code",
   "execution_count": null,
   "id": "4da91ef2-3bb6-4a67-8a5a-0908997c396b",
   "metadata": {},
   "outputs": [],
   "source": [
    "#11.In,for loop,what is the difference between range(10),range(0,10),and range(0,10,1)?\n",
    "A:The differences are as follows:\n",
    "    1.RANGE(10):-\n",
    "       The range(10) call range from 0 to 9(but not include 10)\n",
    "    2.RANGE(0,10):-\n",
    "       The range(0,10) explicitly tells the loop to start at 0\n",
    "    3.RANGE(0,10,1):-\n",
    "       Explicitly tells the loop to increase the variable by 1 on each iteration\n",
    "        "
   ]
  },
  {
   "cell_type": "code",
   "execution_count": 6,
   "id": "f37c576a-d910-4437-9467-47828b471891",
   "metadata": {},
   "outputs": [
    {
     "name": "stdout",
     "output_type": "stream",
     "text": [
      "---------- using for loop ----------\n",
      "1 2 3 4 5 6 7 8 9 10 \n",
      "\n",
      "---------- using whike loop ----------\n",
      "1 2 3 4 5 6 7 8 9 10 "
     ]
    }
   ],
   "source": [
    "#12.Write a short program that prints the numbers 1 to 10 using for loop.Then write an equivalent program that prints the numbers\n",
    "#   1 to 10 using a while loop ?\n",
    "# Answer:-\n",
    "print('-'*10,'using for loop','-'*10)\n",
    "for i in range(1,11):\n",
    "    print(i, end=\" \")\n",
    "print('\\n')\n",
    "print('-'*10,'using whike loop','-'*10)\n",
    "i=1\n",
    "while i<=10:\n",
    "    print(i, end=\" \")\n",
    "    i+=1"
   ]
  },
  {
   "cell_type": "code",
   "execution_count": null,
   "id": "6ff8da9b-efff-47b3-a069-9206c526bfc4",
   "metadata": {},
   "outputs": [],
   "source": [
    "#13.If you had a function named bacon() inside a module named spam,how would you call it after importing spam?\n",
    "A: This function can be called with spam.bacon() "
   ]
  }
 ],
 "metadata": {
  "kernelspec": {
   "display_name": "Python 3 (ipykernel)",
   "language": "python",
   "name": "python3"
  },
  "language_info": {
   "codemirror_mode": {
    "name": "ipython",
    "version": 3
   },
   "file_extension": ".py",
   "mimetype": "text/x-python",
   "name": "python",
   "nbconvert_exporter": "python",
   "pygments_lexer": "ipython3",
   "version": "3.10.6"
  }
 },
 "nbformat": 4,
 "nbformat_minor": 5
}
