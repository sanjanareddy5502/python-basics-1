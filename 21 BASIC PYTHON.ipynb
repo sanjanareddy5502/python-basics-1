{
 "cells": [
  {
   "cell_type": "markdown",
   "id": "b4d17fbe-a3fa-41da-b89c-219a5abddc3a",
   "metadata": {},
   "source": [
    "BASIC PYTHON PROGRAMMING"
   ]
  },
  {
   "cell_type": "markdown",
   "id": "3b3a845d-b8de-4037-a727-ddd6c26ac0aa",
   "metadata": {},
   "source": [
    "ASSIGNMENT - 21"
   ]
  },
  {
   "cell_type": "markdown",
   "id": "5a1ec481-d272-4a20-8896-834d3e001ee0",
   "metadata": {},
   "source": [
    "1. Add the current date to the text file today.txt as a string.\n"
   ]
  },
  {
   "cell_type": "code",
   "execution_count": 1,
   "id": "ed9848b7-7ea0-4c18-96fb-06d7c7f15a37",
   "metadata": {},
   "outputs": [
    {
     "name": "stdout",
     "output_type": "stream",
     "text": [
      "29-04-2023\n"
     ]
    }
   ],
   "source": [
    "import datetime\n",
    "# Code to Add current date to the today.txt file\n",
    "file = open('today.txt','w')\n",
    "file.write(datetime.datetime.now().strftime(\"%d-%m-%Y\"))\n",
    "file.close()\n",
    "# Code to Read current date from today.txt file\n",
    "file = open('today.txt','r')\n",
    "print(file.read())\n",
    "file.close()\n"
   ]
  },
  {
   "cell_type": "markdown",
   "id": "0af40421-61b1-4044-81d7-1e0926e15274",
   "metadata": {},
   "source": [
    "2. Read the text file today.txt into the string today_string\n"
   ]
  },
  {
   "cell_type": "code",
   "execution_count": 2,
   "id": "e4ba82b7-dc1f-4d9d-868f-40f4bc191b7b",
   "metadata": {},
   "outputs": [
    {
     "name": "stdout",
     "output_type": "stream",
     "text": [
      "29-04-2023\n"
     ]
    }
   ],
   "source": [
    "file = open('today.txt','r')\n",
    "today_string = file.read()\n",
    "print(today_string)"
   ]
  },
  {
   "cell_type": "markdown",
   "id": "3917e399-75fa-4c46-ab8b-9b23f59bdbca",
   "metadata": {},
   "source": [
    "3. Parse the date from today_string.\n"
   ]
  },
  {
   "cell_type": "code",
   "execution_count": 3,
   "id": "655cca5d-007a-4847-94f0-01ce3354c3fa",
   "metadata": {},
   "outputs": [
    {
     "name": "stdout",
     "output_type": "stream",
     "text": [
      "2023-04-29 00:00:00\n"
     ]
    }
   ],
   "source": [
    "from datetime import datetime\n",
    "parsed_data = datetime.strptime(today_string, '%d-%m-%Y')\n",
    "print(parsed_data)"
   ]
  },
  {
   "cell_type": "markdown",
   "id": "701b35af-4326-4ab3-adb6-fcc499c85cf6",
   "metadata": {},
   "source": [
    "4. List the files in your current directory"
   ]
  },
  {
   "cell_type": "code",
   "execution_count": 4,
   "id": "a8463272-bd88-4776-82db-76bee3a8de5c",
   "metadata": {},
   "outputs": [
    {
     "name": "stdout",
     "output_type": "stream",
     "text": [
      "5 BASIC PYTHON.ipynb\n",
      "README.md\n",
      "14 BASIC PYTHON.ipynb\n",
      "test.txt\n",
      "sample-code.ipynb\n",
      "python basics ASS-02.ipynb\n",
      "4 basic python assignment.ipynb\n",
      "17 BAISIC PYTHON.ipynb\n",
      "19 BASIC PYTHON.ipynb\n",
      "11 python basics.ipynb\n",
      "16 PYTHON BASIC.ipynb\n",
      "10 BASIC PYTHON.ipynb\n",
      "Untitled5.ipynb\n",
      "12 basic python.ipynb\n",
      "15 BASIC PROGRAMMING.ipynb\n",
      "13 BASIC PYHTON.ipynb\n",
      "university_records.csv\n",
      "9 BASIC PYTHON.ipynb\n",
      "zoo.ipynb\n",
      "Untitled3.ipynb\n",
      "6 BASIC PYTHON.ipynb\n",
      "8 BASIC PYTHON.ipynb\n",
      "Untitled1.ipynb\n",
      "Python basics AS-01.ipynb\n",
      "Untitled4.ipynb\n",
      "books.db\n",
      "20 BASIC PYTHON.ipynb\n",
      "Untitled.ipynb\n",
      "7 bASIC PYTHON.ipynb\n",
      "today.txt\n",
      "trial.ipynb\n",
      "books.csv\n",
      "application_log.txt\n",
      "third origin LLC.ipynb\n",
      "Untitled2.ipynb\n",
      "as3.ipynb\n",
      "Untitled.ipynb\n",
      "as3-checkpoint.ipynb\n",
      "Untitled-checkpoint.ipynb\n",
      "packed-refs\n",
      "HEAD\n",
      "index\n",
      "config\n",
      "description\n",
      "HEAD\n",
      "main\n",
      "HEAD\n",
      "exclude\n",
      "pack-290036e657c294196be1b61a981e44da145e2135.pack\n",
      "pack-290036e657c294196be1b61a981e44da145e2135.idx\n",
      "pre-push.sample\n",
      "prepare-commit-msg.sample\n",
      "applypatch-msg.sample\n",
      "pre-applypatch.sample\n",
      "commit-msg.sample\n",
      "pre-rebase.sample\n",
      "pre-receive.sample\n",
      "update.sample\n",
      "fsmonitor-watchman.sample\n",
      "pre-merge-commit.sample\n",
      "pre-commit.sample\n",
      "push-to-checkout.sample\n",
      "post-update.sample\n",
      "main\n",
      "HEAD\n",
      "4 basic python assignment-checkpoint.ipynb\n",
      "9 BASIC PYTHON-checkpoint.ipynb\n",
      "17 BAISIC PYTHON-checkpoint.ipynb\n",
      "15 BASIC PROGRAMMING-checkpoint.ipynb\n",
      "19 BASIC PYTHON-checkpoint.ipynb\n",
      "16 PYTHON BASIC-checkpoint.ipynb\n",
      "third origin LLC-checkpoint.ipynb\n",
      "Untitled1-checkpoint.ipynb\n",
      "7 bASIC PYTHON-checkpoint.ipynb\n",
      "Untitled4-checkpoint.ipynb\n",
      "10 BASIC PYTHON-checkpoint.ipynb\n",
      "13 BASIC PYHTON-checkpoint.ipynb\n",
      "Untitled2-checkpoint.ipynb\n",
      "python basics ASS-02-checkpoint.ipynb\n",
      "8 BASIC PYTHON-checkpoint.ipynb\n",
      "Python basics AS-01-checkpoint.ipynb\n",
      "zoo-checkpoint.ipynb\n",
      "5 BASIC PYTHON-checkpoint.ipynb\n",
      "Untitled3-checkpoint.ipynb\n",
      "20 BASIC PYTHON-checkpoint.ipynb\n",
      "14 BASIC PYTHON-checkpoint.ipynb\n",
      "12 basic python-checkpoint.ipynb\n",
      "Untitled-checkpoint.ipynb\n",
      "trial-checkpoint.ipynb\n",
      "6 BASIC PYTHON-checkpoint.ipynb\n",
      "11 python basics-checkpoint.ipynb\n",
      "Untitled5-checkpoint.ipynb\n"
     ]
    }
   ],
   "source": [
    "import os\n",
    "for folders, subfolders, files in os.walk(os.getcwd()):\n",
    "    for file in files:\n",
    "        print(file)"
   ]
  },
  {
   "cell_type": "markdown",
   "id": "13d22f86-6ae0-4ef4-8f20-c669e2117b70",
   "metadata": {},
   "source": [
    "5. Create a list of all of the files in your parent directory (minimum five files should be available).\n"
   ]
  },
  {
   "cell_type": "code",
   "execution_count": 5,
   "id": "ad9dee1e-e8df-4a4b-a8d0-32d76696fe53",
   "metadata": {},
   "outputs": [
    {
     "data": {
      "text/plain": [
       "['5 BASIC PYTHON.ipynb',\n",
       " 'README.md',\n",
       " '14 BASIC PYTHON.ipynb',\n",
       " 'test.txt',\n",
       " 'sample-code.ipynb',\n",
       " 'python basics ASS-02.ipynb',\n",
       " '4 basic python assignment.ipynb',\n",
       " '17 BAISIC PYTHON.ipynb',\n",
       " '19 BASIC PYTHON.ipynb',\n",
       " 'python basics as-3',\n",
       " '11 python basics.ipynb',\n",
       " '.git',\n",
       " '16 PYTHON BASIC.ipynb',\n",
       " '10 BASIC PYTHON.ipynb',\n",
       " 'Untitled5.ipynb',\n",
       " '12 basic python.ipynb',\n",
       " '15 BASIC PROGRAMMING.ipynb',\n",
       " '13 BASIC PYHTON.ipynb',\n",
       " 'university_records.csv',\n",
       " '9 BASIC PYTHON.ipynb',\n",
       " 'zoo.ipynb',\n",
       " 'Untitled3.ipynb',\n",
       " '6 BASIC PYTHON.ipynb',\n",
       " '8 BASIC PYTHON.ipynb',\n",
       " 'Untitled1.ipynb',\n",
       " 'Python basics AS-01.ipynb',\n",
       " 'Untitled4.ipynb',\n",
       " 'books.db',\n",
       " '20 BASIC PYTHON.ipynb',\n",
       " 'Untitled.ipynb',\n",
       " '.ipynb_checkpoints',\n",
       " '7 bASIC PYTHON.ipynb',\n",
       " 'today.txt',\n",
       " 'trial.ipynb',\n",
       " 'books.csv',\n",
       " 'application_log.txt',\n",
       " 'third origin LLC.ipynb',\n",
       " 'Untitled2.ipynb']"
      ]
     },
     "execution_count": 5,
     "metadata": {},
     "output_type": "execute_result"
    }
   ],
   "source": [
    "import os \n",
    "os.listdir()"
   ]
  },
  {
   "cell_type": "markdown",
   "id": "a65d1a6c-1f9e-4a64-b20b-7ea449732dfa",
   "metadata": {},
   "source": [
    "6. Use multiprocessing to create three separate processes. Make each one wait a random number of seconds between one and five, print the current time, and then exit."
   ]
  },
  {
   "cell_type": "code",
   "execution_count": 6,
   "id": "f2b6e0f4-8ed6-456c-828e-56ada4b4c423",
   "metadata": {},
   "outputs": [
    {
     "name": "stdout",
     "output_type": "stream",
     "text": [
      "Proc_one_Starttime -> 2023-04-29 08:30:35.220543Proc_two_Starttime -> 2023-04-29 08:30:35.313115\n",
      "\n",
      "Proc_two_Starttime -> 2023-04-29 08:30:35.338044\n",
      "Proc_two_Endtime -> 2023-04-29 08:30:36.352459\n",
      "Proc_two_Endtime -> 2023-04-29 08:30:36.399216\n",
      "Proc_one_Endtime -> 2023-04-29 08:30:40.359226\n"
     ]
    }
   ],
   "source": [
    "import multiprocessing\n",
    "import time \n",
    "import random\n",
    "import datetime\n",
    "\n",
    "def procOne():\n",
    "    print(f'Proc_one_Starttime -> {datetime.datetime.now()}')\n",
    "    time.sleep(random.randint(1,5))\n",
    "    print(f'Proc_one_Endtime -> {datetime.datetime.now()}')\n",
    "    \n",
    "def procTwo():\n",
    "    print(f'Proc_two_Starttime -> {datetime.datetime.now()}')\n",
    "    time.sleep(random.randint(1,5))\n",
    "    print(f'Proc_two_Endtime -> {datetime.datetime.now()}')\n",
    "\n",
    "def procThree():\n",
    "    print(f'Proc_two_Starttime -> {datetime.datetime.now()}')\n",
    "    time.sleep(random.randint(1,5))\n",
    "    print(f'Proc_two_Endtime -> {datetime.datetime.now()}')\n",
    "    \n",
    "if __name__ == \"__main__\":    \n",
    "    p1 = multiprocessing.Process(target=procOne)\n",
    "    p2 = multiprocessing.Process(target=procTwo)\n",
    "    p3 = multiprocessing.Process(target=procThree)\n",
    "\n",
    "    p1.start()\n",
    "    p2.start()\n",
    "    p3.start()\n",
    "\n",
    "    p1.join()\n",
    "    p2.join()\n",
    "    p3.join()"
   ]
  },
  {
   "cell_type": "code",
   "execution_count": 7,
   "id": "5f562af4-6b75-4ea8-a48d-fa3a1cd2e9f1",
   "metadata": {},
   "outputs": [
    {
     "name": "stdout",
     "output_type": "stream",
     "text": [
      "1997-04-22 00:00:00 <class 'datetime.datetime'>\n"
     ]
    }
   ],
   "source": [
    "#7. Create a date object of your day of birth.\n",
    "from datetime import datetime\n",
    "my_dob = datetime.strptime('22/04/1997','%d/%m/%Y')\n",
    "print(my_dob, type(my_dob))"
   ]
  },
  {
   "cell_type": "code",
   "execution_count": 8,
   "id": "9e0c32e9-ef5c-443a-a59f-793e4cdc7cea",
   "metadata": {},
   "outputs": [
    {
     "data": {
      "text/plain": [
       "'Tuesday'"
      ]
     },
     "execution_count": 8,
     "metadata": {},
     "output_type": "execute_result"
    }
   ],
   "source": [
    "#8. What day of the week was your day of birth?\n",
    "from datetime import datetime\n",
    "my_dob = datetime(1997,4,22)\n",
    "my_dob.strftime(\"%A\")"
   ]
  },
  {
   "cell_type": "code",
   "execution_count": 9,
   "id": "881d3355-23d6-425d-b4cb-1bab9ed1916a",
   "metadata": {},
   "outputs": [
    {
     "data": {
      "text/plain": [
       "datetime.datetime(1969, 12, 5, 0, 0)"
      ]
     },
     "execution_count": 9,
     "metadata": {},
     "output_type": "execute_result"
    }
   ],
   "source": [
    "#9. When will you be (or when were you) 10,000 days old?\n",
    "from datetime import datetime, timedelta\n",
    "my_dob = datetime.strptime(\"22/04/1997\",'%d/%m/%Y')\n",
    "future_date = my_dob-timedelta(10000)\n",
    "future_date"
   ]
  }
 ],
 "metadata": {
  "kernelspec": {
   "display_name": "Python 3 (ipykernel)",
   "language": "python",
   "name": "python3"
  },
  "language_info": {
   "codemirror_mode": {
    "name": "ipython",
    "version": 3
   },
   "file_extension": ".py",
   "mimetype": "text/x-python",
   "name": "python",
   "nbconvert_exporter": "python",
   "pygments_lexer": "ipython3",
   "version": "3.10.6"
  }
 },
 "nbformat": 4,
 "nbformat_minor": 5
}
