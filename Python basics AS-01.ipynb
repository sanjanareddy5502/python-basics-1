{
 "cells": [
  {
   "cell_type": "markdown",
   "id": "2fc71fa3-b349-480a-b8ff-6922eaf9eb8d",
   "metadata": {},
   "source": [
    "                                                  \n",
    "                                                  \n",
    "                                                  PYTHON BASICS\n",
    "                                                  \n",
    "                                                  ASSIGNMNET-01\n",
    "                                                  \n",
    "                                                  \n",
    "1.In the below elements which of them are values or an expression? eg:-values can be integer or string and \n",
    "expressions will be mathematical operators \n",
    " *\n",
    " 'hello'\n",
    " -87.8\n",
    " -\n",
    " / \n",
    " +\n",
    " 6\n",
    " A: We can clearly see that: \n",
    "     total number of operators=4\n",
    "     total number of expressions=3\n",
    "     Operators: *,-,/,+\n",
    "     Expressions:'hello',-87.8,6\n",
    "     \n",
    "     \n",
    "2.What is the difference between string and variable?\n",
    "A: The major difference between string and variable is that a \n",
    "     variable is used to store of information,and a string is a \n",
    "     type of information you would store in a variable.\n",
    "     A string is group of characters or a single character\n",
    "     usually enclosed in Double quotes(\" \") or single quotes\n",
    "     (' ')\n",
    "     \n",
    "3.Describe three different data types?\n",
    "A: Three fundamental Data types in Python are int,float,complex.\n",
    "   1.int data type:\n",
    "     we can use int data type to represent whole numbers\n",
    "     (integral values)\n",
    "   2.float data type:\n",
    "     we can use float data type to represent floating point\n",
    "     values(decimal values)\n",
    "   3.complex data type:\n",
    "     Complex number is represented by complex class.\n",
    "     It is specified as (real part)+(imaginary part)j\n",
    "     "
   ]
  },
  {
   "cell_type": "code",
   "execution_count": 2,
   "id": "fd3e8a56-782c-45a9-bef6-a63106c18dda",
   "metadata": {},
   "outputs": [
    {
     "name": "stdout",
     "output_type": "stream",
     "text": [
      "4567 <class 'int'>\n",
      "1200.0 <class 'float'>\n",
      "(11+11.11j) <class 'complex'>\n"
     ]
    }
   ],
   "source": [
    "#Example for int data type \n",
    "int_num=4567\n",
    "print(int_num,type(int_num))\n",
    "#Example for float data type\n",
    "flo_num=1.2e3\n",
    "print(flo_num,type(flo_num))\n",
    "#Example for complex data type\n",
    "com_num=11+11.11j\n",
    "print(com_num,type(com_num))"
   ]
  },
  {
   "cell_type": "markdown",
   "id": "e0529a02-55c1-4401-b511-be33dfcbfc93",
   "metadata": {},
   "source": [
    "4.What is an expression made up of? What do all expressions do?\n",
    "A: An expression is a combination of Values,Variables,operators \n",
    "   and calls to functions.Expressions need to be evaluated.\n",
    "   If we ask Python to print an expression,the interpreter \n",
    "   evaluates the expression and displays the result."
   ]
  },
  {
   "cell_type": "code",
   "execution_count": 4,
   "id": "1bf272ef-17d3-4bfe-990c-3711fe9e0099",
   "metadata": {},
   "outputs": [
    {
     "data": {
      "text/plain": [
       "23"
      ]
     },
     "execution_count": 4,
     "metadata": {},
     "output_type": "execute_result"
    }
   ],
   "source": [
    "9*3+4-8\n",
    "#This is an Expression,The Python Interpreter Evaluates it to 23"
   ]
  },
  {
   "cell_type": "markdown",
   "id": "362d18ac-9894-430e-8f06-b4c1aab539ca",
   "metadata": {},
   "source": [
    "5.This assignment statements,like spam=10.What is the difference between an expression and a statement?\n",
    "A:Expression-\n",
    "   An expression is a combnation of values,variables and \n",
    "   operators.When we type an expression at the prompy,the \n",
    "   interpreter evaluates it,which means that it finds the value\n",
    "   of the expression\n",
    "   eg:4*5+20-40 is an example of an statement\n",
    "  Statement:\n",
    "   A Statement is a unit of code that has an effect,like creation\n",
    "   a variable or displaying a value.When we type a statement,the \n",
    "   interpreter executes it,which means that it does whatever the \n",
    "   statement says:In general,statements don't have values\n",
    "   eg:variable declaration and assignment are statements because\n",
    "      they do not return a value.\n",
    "  "
   ]
  },
  {
   "cell_type": "code",
   "execution_count": 5,
   "id": "9fa9bac5-1aaa-4fbf-8dcc-fd4c9c289965",
   "metadata": {},
   "outputs": [
    {
     "name": "stdout",
     "output_type": "stream",
     "text": [
      "hello world!\n"
     ]
    }
   ],
   "source": [
    "#Example:\n",
    "4*5+20-40 #is an expression\n",
    "courseName='INEURON FULLSTACK DATASCIENCE' #This is a statement\n",
    "print('hello world!') #this is an expression statement"
   ]
  },
  {
   "cell_type": "markdown",
   "id": "1bb0089a-ec72-46bb-aeef-9422856a8f24",
   "metadata": {},
   "source": [
    "6.After running the following code,what does the  variable bacon \n",
    "  contain?\n",
    "  bacon=22\n",
    "  bacon+1\n",
    "A: The variable bacon is set to 22.The expression bacon+1 does \n",
    "   not reassign the value in bacon(that would the case if the\n",
    "   expression is like bacon=bacon+1 instead of bacon+1)"
   ]
  },
  {
   "cell_type": "code",
   "execution_count": 6,
   "id": "c9f4fab2-7077-4d13-9562-5b770906c4c4",
   "metadata": {},
   "outputs": [
    {
     "name": "stdout",
     "output_type": "stream",
     "text": [
      "22\n"
     ]
    }
   ],
   "source": [
    "bacon=22\n",
    "bacon+1\n",
    "print(bacon)"
   ]
  },
  {
   "cell_type": "code",
   "execution_count": 7,
   "id": "36bb8d9e-44ed-4897-a583-d5d41a81682f",
   "metadata": {},
   "outputs": [
    {
     "name": "stdout",
     "output_type": "stream",
     "text": [
      "23\n"
     ]
    }
   ],
   "source": [
    "bacon=22\n",
    "bacon=bacon+1\n",
    "print(bacon)"
   ]
  },
  {
   "cell_type": "markdown",
   "id": "21c11628-b27e-44b3-b37c-1cc235843216",
   "metadata": {},
   "source": [
    "7.What should the values of the following two terms be?\n",
    " 'spam'+'spamspam'\n",
    " 'spam'*3"
   ]
  },
  {
   "cell_type": "code",
   "execution_count": 8,
   "id": "61b9e85d-d10f-46e6-9109-7045b41736e6",
   "metadata": {},
   "outputs": [
    {
     "name": "stdout",
     "output_type": "stream",
     "text": [
      "spamspamspam\n",
      "spamspamspam\n"
     ]
    }
   ],
   "source": [
    "#string concatenation\n",
    "print('spam'+'spamspam')\n",
    "#String multiplication\n",
    "print('spam'*3)"
   ]
  },
  {
   "cell_type": "markdown",
   "id": "11f4cc55-f8df-4ba2-b099-f6270b564cd5",
   "metadata": {},
   "source": [
    "8.Why is eggs a valid variable name while 100 is invalid?\n",
    "A: As per Python,Variable  names cannot begin with a number.The \n",
    "   Python rules for naming a variable are:-\n",
    "    1.Variable name must start with a letter or the underscore \n",
    "      character.\n",
    "    2.Variable name cannot start with a number.\n",
    "    3.Variable name can only contain alpha-numeric characters and \n",
    "      underscores(A-Z,0-9,&_).\n",
    "    4.Variable name are case-sensitive(name,INEURON and ineuron are three different variables).\n",
    "    5.The reserved words(keywords)cannot be used naming the \n",
    "      variable."
   ]
  },
  {
   "cell_type": "code",
   "execution_count": 9,
   "id": "0d375078-be8a-4db5-8dcd-9de871e50747",
   "metadata": {},
   "outputs": [
    {
     "ename": "SyntaxError",
     "evalue": "cannot assign to literal here. Maybe you meant '==' instead of '='? (2587202340.py, line 2)",
     "output_type": "error",
     "traceback": [
      "\u001b[0;36m  Cell \u001b[0;32mIn [9], line 2\u001b[0;36m\u001b[0m\n\u001b[0;31m    100='INeuron'#invalid variable initialization\u001b[0m\n\u001b[0m    ^\u001b[0m\n\u001b[0;31mSyntaxError\u001b[0m\u001b[0;31m:\u001b[0m cannot assign to literal here. Maybe you meant '==' instead of '='?\n"
     ]
    }
   ],
   "source": [
    "egg='INeuron' #valid variable initialization\n",
    "100='INeuron'#invalid variable initialization\n",
    "print(egg)#prints the value of egg\n",
    "print(100)#raises a syntax error"
   ]
  },
  {
   "cell_type": "code",
   "execution_count": 10,
   "id": "56c5beb7-7674-4917-bbf9-7ca03045c86a",
   "metadata": {},
   "outputs": [
    {
     "name": "stdout",
     "output_type": "stream",
     "text": [
      "INeuron\n"
     ]
    }
   ],
   "source": [
    "egg='INeuron'#valid variable\n",
    "print(egg)#prints the value of egg"
   ]
  },
  {
   "cell_type": "markdown",
   "id": "70d8fb6c-72ad-4e6b-82b8-8b07897fa820",
   "metadata": {},
   "source": [
    "9.What three functions can be used to get the integer,floating-point number,or string version of a value?\n",
    "A: The int(),float(),and str() functions will evaluate to the integer,floating-point number,string version of the value passed to them."
   ]
  },
  {
   "cell_type": "code",
   "execution_count": 11,
   "id": "9870fa3f-90e3-450a-8430-3dd7f865f804",
   "metadata": {},
   "outputs": [
    {
     "name": "stdout",
     "output_type": "stream",
     "text": [
      "int(10.0) ->  10\n",
      "float(10) -> 10.0\n",
      "str(10) -> 10\n"
     ]
    }
   ],
   "source": [
    "print('int(10.0) -> ',int(10.0))\n",
    "#int() function converts given input to int\n",
    "print('float(10) ->',float(10))\n",
    "#float() function converts given input to float\n",
    "print('str(10) ->',str(10))\n",
    "#str() function converts given input to string"
   ]
  },
  {
   "cell_type": "markdown",
   "id": "9a79953b-9d0a-4264-8f07-7ebb09e985b7",
   "metadata": {},
   "source": [
    "10.How does this expression cause an error?How can you fix it?\n",
    "   'I have eaten'+99+'burritos'\n",
    "A:The cause of error is 99,because 99 is not a string.\n",
    "  99 must be typecasted to a string to fix this error.The correct way is:\n",
    "  input:\n",
    "       'I have eaten'+str(99)+'burritos'\n",
    "  output:\n",
    "         I have eaten 99 burritos"
   ]
  },
  {
   "cell_type": "code",
   "execution_count": 5,
   "id": "9c7b32d5-203f-4243-b005-c4c0bca2422c",
   "metadata": {},
   "outputs": [
    {
     "name": "stdout",
     "output_type": "stream",
     "text": [
      "I have eaten 99 burritos\n"
     ]
    }
   ],
   "source": [
    "print('I have eaten '+str(99)+' burritos')"
   ]
  }
 ],
 "metadata": {
  "kernelspec": {
   "display_name": "Python 3 (ipykernel)",
   "language": "python",
   "name": "python3"
  },
  "language_info": {
   "codemirror_mode": {
    "name": "ipython",
    "version": 3
   },
   "file_extension": ".py",
   "mimetype": "text/x-python",
   "name": "python",
   "nbconvert_exporter": "python",
   "pygments_lexer": "ipython3",
   "version": "3.10.6"
  }
 },
 "nbformat": 4,
 "nbformat_minor": 5
}
